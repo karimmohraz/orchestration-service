{
 "cells": [
  {
   "cell_type": "markdown",
   "id": "d4d8f0d470dd5ce2",
   "metadata": {},
   "source": [
    "# Orchestration Service Tutorial"
   ]
  },
  {
   "cell_type": "markdown",
   "id": "5cfa2bb46ec75e47",
   "metadata": {},
   "source": [
    "This notebook demonstrates how to use the SDK to interact with the Orchestration Service, enabling the creation of AI-driven workflows by seamlessly integrating various modules, such as templating, large language models (LLMs), data masking and content filtering. By leveraging these modules, you can build complex, automated workflows that enhance the capabilities of your AI solutions. For more details on configuring and using these modules, please refer to the [Orchestration Service Documentation](https://help.sap.com/docs/ai-launchpad/sap-ai-launchpad/orchestration).\n",
    "\n",
    "![Orchestration Pipeline Modules](./orchestration_pipeline.png)"
   ]
  },
  {
   "cell_type": "markdown",
   "id": "361c6244a294485e",
   "metadata": {},
   "source": [
    "## Initializing the Orchestration Service\n",
    "\n",
    "⚠️Before using the SDK, you need to set up a virtual deployment of the Orchestration Service. Once deployed, you'll have access to a unique endpoint URL (deploymentUrl)."
   ]
  },
  {
   "cell_type": "code",
   "id": "e522c0b92cd29e4d",
   "metadata": {
    "ExecuteTime": {
     "end_time": "2024-10-09T08:55:50.291713Z",
     "start_time": "2024-10-09T08:55:50.286675Z"
    }
   },
   "source": [
    "YOUR_API_URL = \"https://api.ai.xyz.ml.hana.ondemand.com/v2/inference/deployments/xxx\""
   ],
   "outputs": [],
   "execution_count": 22
  },
  {
   "cell_type": "markdown",
   "id": "a59c47b7e4c0adfe",
   "metadata": {},
   "source": [
    "### Step 1: Define the Template and Default Input Values\n",
    "\n",
    "The Template class is used to define structured message templates for generating dynamic interactions with language models. In this example, the template is designed for a translation assistant, allowing users to specify a language and text for translation."
   ]
  },
  {
   "cell_type": "code",
   "id": "9a59d3a2a5266df5",
   "metadata": {
    "ExecuteTime": {
     "end_time": "2024-10-09T08:55:52.713333Z",
     "start_time": "2024-10-09T08:55:52.710112Z"
    }
   },
   "source": [
    "from gen_ai_hub.orchestration.models.message import SystemMessage, UserMessage\n",
    "from gen_ai_hub.orchestration.models.template import Template, TemplateValue\n",
    "\n",
    "template = Template(\n",
    "    messages=[\n",
    "        SystemMessage(\"You are a helpful translation assistant.\"),\n",
    "        UserMessage(\n",
    "            \"Translate the following text to {{?to_lang}}: {{?text}}\"\n",
    "        ),\n",
    "    ],\n",
    "    defaults=[\n",
    "        TemplateValue(name=\"to_lang\", value=\"Spanish\"),\n",
    "    ],\n",
    ")"
   ],
   "outputs": [],
   "execution_count": 23
  },
  {
   "cell_type": "markdown",
   "id": "13691a6f5ffee555",
   "metadata": {},
   "source": [
    "## Basic Orchestration Pipeline\n",
    "\n",
    "Now that you have YOUR_API_URL, let's walk through a basic orchestration pipeline for a translation task."
   ]
  },
  {
   "cell_type": "markdown",
   "id": "1efb1b8a33d12de9",
   "metadata": {},
   "source": [
    "### Step 2: Define the LLM\n",
    "\n",
    "The LLM class is used to configure and initialize a language model for generating text based on specific parameters. In this example, we'll use the GPT-4o model to perform the translation task.\n",
    "\n",
    "ℹ️Note that virtual deployment of the language model is managed automatically by the Orchestration Service, so no additional deployment setup is required on your part."
   ]
  },
  {
   "cell_type": "code",
   "id": "cf3356f0268f267",
   "metadata": {
    "ExecuteTime": {
     "end_time": "2024-10-09T08:55:58.689816Z",
     "start_time": "2024-10-09T08:55:58.687366Z"
    }
   },
   "source": [
    "from gen_ai_hub.orchestration.models.llm import LLM\n",
    "\n",
    "llm = LLM(name=\"gpt-4o\", version=\"latest\", parameters={\"max_tokens\": 256, \"temperature\": 0.2})"
   ],
   "outputs": [],
   "execution_count": 24
  },
  {
   "cell_type": "markdown",
   "id": "ca0130f7ff9df59a",
   "metadata": {},
   "source": [
    "This configuration initializes the language model to use the gpt-4o variant with the latest updates. The model will generate responses up to 256 tokens in length and produce more predictable and focused output due to the low temperature setting."
   ]
  },
  {
   "cell_type": "markdown",
   "id": "c97ee26cf9c303b7",
   "metadata": {},
   "source": [
    "### Step 3: Create the Orchestration Configuration\n",
    "\n",
    "The OrchestrationConfig class is used to create a configuration that integrates various components, such as templates and language models, into a unified orchestration setup. This configuration specifies how these components work together to achieve the desired workflow."
   ]
  },
  {
   "cell_type": "code",
   "id": "c5c18daf6bec0aec",
   "metadata": {
    "ExecuteTime": {
     "end_time": "2024-10-09T08:56:03.092436Z",
     "start_time": "2024-10-09T08:56:03.090126Z"
    }
   },
   "source": [
    "from gen_ai_hub.orchestration.models.config import OrchestrationConfig\n",
    "\n",
    "config = OrchestrationConfig(\n",
    "    template=template,\n",
    "    llm=llm,\n",
    ")"
   ],
   "outputs": [],
   "execution_count": 25
  },
  {
   "cell_type": "markdown",
   "id": "ddd21a6c7c9db50e",
   "metadata": {},
   "source": [
    "This template can be used to create translation requests where the language and text to be translated are specified dynamically. The placeholders in the UserMessage will be replaced with the actual values provided at runtime, and the default value for the language is set to German."
   ]
  },
  {
   "cell_type": "markdown",
   "id": "26802bca242e40e0",
   "metadata": {},
   "source": [
    "### Step 4: Run the Orchestration Request\n",
    "\n",
    "The OrchestrationService class is used to interact with the orchestration service by providing a configuration and invoking its operations. This service handles the execution of workflows defined by the provided configuration and processes inputs accordingly."
   ]
  },
  {
   "cell_type": "code",
   "id": "c7c7a3b8cfef44c1",
   "metadata": {
    "ExecuteTime": {
     "end_time": "2024-10-09T08:56:11.163820Z",
     "start_time": "2024-10-09T08:56:11.161423Z"
    }
   },
   "source": [
    "from gen_ai_hub.orchestration.service import OrchestrationService\n",
    "\n",
    "orchestration_service = OrchestrationService(api_url=YOUR_API_URL, config=config)"
   ],
   "outputs": [],
   "execution_count": 26
  },
  {
   "cell_type": "markdown",
   "id": "9b5a114f96ccea5b",
   "metadata": {},
   "source": [
    "Call the run method with the required template_values. The service will process the input according to the configuration and return the result."
   ]
  },
  {
   "cell_type": "code",
   "id": "ea61f817f25c985c",
   "metadata": {
    "ExecuteTime": {
     "end_time": "2024-10-09T08:56:16.500533Z",
     "start_time": "2024-10-09T08:56:15.327371Z"
    }
   },
   "source": [
    "result = orchestration_service.run(template_values=[\n",
    "    TemplateValue(name=\"text\", value=\"The Orchestration Service is working!\")\n",
    "])\n",
    "print(result.orchestration_result.choices[0].message.content)"
   ],
   "outputs": [
    {
     "name": "stdout",
     "output_type": "stream",
     "text": [
      "¡El Servicio de Orquestación está funcionando!\n"
     ]
    }
   ],
   "execution_count": 27
  },
  {
   "cell_type": "markdown",
   "id": "994a9645b29ef1db",
   "metadata": {},
   "source": [
    "## Optional Modules"
   ]
  },
  {
   "cell_type": "markdown",
   "id": "d92be02fe6eea0b2",
   "metadata": {},
   "source": [
    "### Data Masking\n",
    "\n",
    "The Data Masking Module anonymizes or pseudonymizes personally identifiable information (PII) before it is processed by the LLM module. When data is anonymized, all identifying information is replaced with placeholders (e.g., MASKED_ENTITY), and the original data cannot be recovered, ensuring that no trace of the original information is retained. In contrast, pseudonymized data is substituted with unique placeholders (e.g., MASKED_ENTITY_ID), allowing the original information to be restored if needed. In both cases, the masking module identifies sensitive data and replaces it with appropriate placeholders before further processing."
   ]
  },
  {
   "cell_type": "code",
   "id": "55de89ea8090d7eb",
   "metadata": {
    "ExecuteTime": {
     "end_time": "2024-10-09T08:56:24.963623Z",
     "start_time": "2024-10-09T08:56:19.281593Z"
    }
   },
   "source": [
    "from gen_ai_hub.orchestration.utils import load_text_file\n",
    "from gen_ai_hub.orchestration.models.data_masking import DataMasking\n",
    "from gen_ai_hub.orchestration.models.sap_data_privacy_integration import SAPDataPrivacyIntegration, MaskingMethod, \\\n",
    "    ProfileEntity\n",
    "\n",
    "data_masking = DataMasking(\n",
    "    providers=[\n",
    "        SAPDataPrivacyIntegration(\n",
    "            method=MaskingMethod.ANONYMIZATION,  # or MaskingMethod.PSEUDONYMIZATION\n",
    "            entities=[\n",
    "                ProfileEntity.EMAIL,\n",
    "                ProfileEntity.PHONE,\n",
    "                ProfileEntity.PERSON,\n",
    "                ProfileEntity.ORG,\n",
    "                ProfileEntity.LOCATION\n",
    "            ]\n",
    "        )\n",
    "    ]\n",
    ")\n",
    "\n",
    "config = OrchestrationConfig(\n",
    "    template=Template(\n",
    "        messages=[\n",
    "            SystemMessage(\"You are a helpful AI assistant.\"),\n",
    "            UserMessage(\"Summarize the following CV in 10 sentences: {{?orgCV}}\"),\n",
    "        ]\n",
    "    ),\n",
    "    llm=LLM(\n",
    "        name=\"gpt-4o\",\n",
    "    ),\n",
    "    data_masking=data_masking\n",
    ")\n",
    "\n",
    "cv_as_string = load_text_file(\"data/cv.txt\")\n",
    "\n",
    "result = orchestration_service.run(\n",
    "    config=config,\n",
    "    template_values=[\n",
    "        TemplateValue(name=\"orgCV\", value=cv_as_string)\n",
    "    ]\n",
    ")"
   ],
   "outputs": [],
   "execution_count": 28
  },
  {
   "cell_type": "code",
   "id": "e44d871bc49bb3bc",
   "metadata": {
    "ExecuteTime": {
     "end_time": "2024-10-09T08:56:25.888755Z",
     "start_time": "2024-10-09T08:56:25.886682Z"
    }
   },
   "source": [
    "print(result.orchestration_result.choices[0].message.content)"
   ],
   "outputs": [
    {
     "name": "stdout",
     "output_type": "stream",
     "text": [
      "MASKED_PERSON is a seasoned Financial Manager with expertise in strategic and financial planning, process implementation, and staff leadership. Skilled in accurately forecasting financial outcomes and improving business performance, they hold a Master of Science in Finance (2014) and a Bachelor of Science in Finance (2011). As a Certified Management Accountant, MASKED_PERSON has successfully advised large corporations, small businesses, and individual clients on asset allocation, investment strategies, and risk management. Their proficiency in SAP and Excel VBA supports their detailed functional and technical analysis.\n",
      "\n",
      "In their role as Finance Manager from 2016 to 2018, they led financial modeling, planning, and execution, developing short and long-term strategies to meet company objectives. They also recommended innovative revenue-generating alternatives, conducted advanced deal analysis, and negotiated with potential investors. During their previous tenure as Finance Manager from 2013 to 2016, MASKED_PERSON drafted executive analysis reports, highlighted business issues and potential risks, and identified profit opportunities. They fostered revenue growth by analyzing market trends and surveys and applying the insights to business strategies. Their career reflects a strong track record of increasing work process efficiency and profitability.\n"
     ]
    }
   ],
   "execution_count": 29
  },
  {
   "cell_type": "markdown",
   "id": "6beb1e933ba1eada",
   "metadata": {},
   "source": [
    "### Content Filtering\n",
    "\n",
    "The Content Filtering Module can be configured to filter both the input to the LLM module (input filter) and the output generated by the LLM (output filter). The module uses predefined classification services to detect inappropriate or unwanted content, allowing flexible configuration through customizable thresholds. These thresholds can be set to control the sensitivity of filtering, ensuring that content meets desired standards before it is processed or returned as output."
   ]
  },
  {
   "cell_type": "code",
   "id": "6ff60002292d04a4",
   "metadata": {
    "ExecuteTime": {
     "end_time": "2024-10-09T08:56:29.213506Z",
     "start_time": "2024-10-09T08:56:29.204396Z"
    }
   },
   "source": [
    "from gen_ai_hub.orchestration.models.azure_content_filter import AzureContentFilter, AzureThreshold\n",
    "\n",
    "input_filter= AzureContentFilter(hate=AzureThreshold.ALLOW_SAFE,\n",
    "                                  violence=AzureThreshold.ALLOW_SAFE,\n",
    "                                  self_harm=AzureThreshold.ALLOW_SAFE,\n",
    "                                  sexual=AzureThreshold.ALLOW_SAFE)\n",
    "output_filter = AzureContentFilter(hate=AzureThreshold.ALLOW_SAFE,\n",
    "                                   violence=AzureThreshold.ALLOW_SAFE_LOW,\n",
    "                                   self_harm=AzureThreshold.ALLOW_SAFE_LOW_MEDIUM,\n",
    "                                   sexual=AzureThreshold.ALLOW_ALL)\n",
    "\n",
    "config = OrchestrationConfig(\n",
    "    template=Template(\n",
    "        messages=[\n",
    "            SystemMessage(\"You are a helpful AI assistant.\"),\n",
    "            UserMessage(\"{{?text}}\"),\n",
    "        ]\n",
    "    ),\n",
    "    llm=LLM(\n",
    "        name=\"gpt-4o\",\n",
    "    ),\n",
    "    input_filters=[input_filter],\n",
    "    output_filters=[output_filter]\n",
    ")"
   ],
   "outputs": [],
   "execution_count": 30
  },
  {
   "cell_type": "code",
   "id": "fc2bc3e0e569ada3",
   "metadata": {
    "ExecuteTime": {
     "end_time": "2024-10-09T08:56:31.260650Z",
     "start_time": "2024-10-09T08:56:30.829244Z"
    }
   },
   "source": [
    "from gen_ai_hub.orchestration.exceptions import OrchestrationError\n",
    "\n",
    "try:\n",
    "    result = orchestration_service.run(config=config, template_values=[\n",
    "        TemplateValue(name=\"text\", value=\"I hate you\")\n",
    "    ])\n",
    "except OrchestrationError as error:\n",
    "    print(error.message)"
   ],
   "outputs": [
    {
     "name": "stdout",
     "output_type": "stream",
     "text": [
      "Content filtered due to Safety violations. Please modify the prompt and try again.\n"
     ]
    }
   ],
   "execution_count": 31
  },
  {
   "cell_type": "markdown",
   "id": "fb761855b9abc42c",
   "metadata": {},
   "source": [
    "## Advanced Examples"
   ]
  },
  {
   "cell_type": "code",
   "id": "7476db3ffb49eb14",
   "metadata": {
    "ExecuteTime": {
     "end_time": "2024-10-09T08:56:34.594979Z",
     "start_time": "2024-10-09T08:56:34.593085Z"
    }
   },
   "source": [
    "service = OrchestrationService(api_url=YOUR_API_URL)"
   ],
   "outputs": [],
   "execution_count": 32
  },
  {
   "cell_type": "markdown",
   "id": "10c1f142ece2d309",
   "metadata": {},
   "source": [
    "### Translation Service"
   ]
  },
  {
   "cell_type": "code",
   "id": "72113e559b0875ad",
   "metadata": {
    "ExecuteTime": {
     "end_time": "2024-10-09T08:56:36.464819Z",
     "start_time": "2024-10-09T08:56:36.461121Z"
    }
   },
   "source": [
    "from gen_ai_hub.orchestration.models.config import OrchestrationConfig\n",
    "from gen_ai_hub.orchestration.models.llm import LLM\n",
    "from gen_ai_hub.orchestration.models.message import SystemMessage, UserMessage\n",
    "from gen_ai_hub.orchestration.models.template import Template, TemplateValue\n",
    "from gen_ai_hub.orchestration.service import OrchestrationService\n",
    "\n",
    "\n",
    "class TranslationService:\n",
    "    def __init__(self, orchestration_service: OrchestrationService):\n",
    "        self.service = orchestration_service\n",
    "        self.config = OrchestrationConfig(\n",
    "            template=Template(\n",
    "                messages=[\n",
    "                    SystemMessage(\"You are a helpful translation assistant.\"),\n",
    "                    UserMessage(\n",
    "                        \"Translate the following text to {{?to_lang}}: {{?text}}\"\n",
    "                    ),\n",
    "                ],\n",
    "                defaults=[\n",
    "                    TemplateValue(name=\"to_lang\", value=\"English\"),\n",
    "                ],\n",
    "            ),\n",
    "            llm=LLM(name=\"gpt-4o\"),\n",
    "        )\n",
    "\n",
    "    def translate(self, text, to_lang):\n",
    "        response = self.service.run(\n",
    "            config=self.config,\n",
    "            template_values=[\n",
    "                TemplateValue(name=\"to_lang\", value=to_lang),\n",
    "                TemplateValue(name=\"text\", value=text),\n",
    "            ],\n",
    "        )\n",
    "\n",
    "        return response.orchestration_result.choices[0].message.content\n"
   ],
   "outputs": [],
   "execution_count": 33
  },
  {
   "cell_type": "code",
   "id": "bb2e43db6665d162",
   "metadata": {
    "ExecuteTime": {
     "end_time": "2024-10-09T08:56:37.723125Z",
     "start_time": "2024-10-09T08:56:37.721051Z"
    }
   },
   "source": [
    "translator = TranslationService(orchestration_service=service)"
   ],
   "outputs": [],
   "execution_count": 34
  },
  {
   "cell_type": "code",
   "id": "b48f620b8ece05b1",
   "metadata": {
    "ExecuteTime": {
     "end_time": "2024-10-09T08:56:39.299599Z",
     "start_time": "2024-10-09T08:56:38.556029Z"
    }
   },
   "source": [
    "result = translator.translate(text=\"Hello, world!\", to_lang=\"French\")\n",
    "print(result)"
   ],
   "outputs": [
    {
     "name": "stdout",
     "output_type": "stream",
     "text": [
      "Bonjour, le monde !\n"
     ]
    }
   ],
   "execution_count": 35
  },
  {
   "cell_type": "code",
   "id": "3c9cd07907bda369",
   "metadata": {
    "ExecuteTime": {
     "end_time": "2024-10-09T08:56:39.962141Z",
     "start_time": "2024-10-09T08:56:39.370504Z"
    }
   },
   "source": [
    "result = translator.translate(text=\"Hello, world!\", to_lang=\"Spanish\")\n",
    "print(result)"
   ],
   "outputs": [
    {
     "name": "stdout",
     "output_type": "stream",
     "text": [
      "¡Hola, mundo!\n"
     ]
    }
   ],
   "execution_count": 36
  },
  {
   "cell_type": "code",
   "id": "6eafbcb25180d359",
   "metadata": {
    "ExecuteTime": {
     "end_time": "2024-10-09T08:56:40.939670Z",
     "start_time": "2024-10-09T08:56:40.294510Z"
    }
   },
   "source": [
    "result = translator.translate(text=\"Hello, world!\", to_lang=\"German\")\n",
    "print(result)"
   ],
   "outputs": [
    {
     "name": "stdout",
     "output_type": "stream",
     "text": [
      "Hallo, Welt!\n"
     ]
    }
   ],
   "execution_count": 37
  },
  {
   "cell_type": "markdown",
   "id": "67bb6ee8f9221c0f",
   "metadata": {},
   "source": [
    "### Chatbot with Memory"
   ]
  },
  {
   "cell_type": "code",
   "id": "28a57d005dd6abfa",
   "metadata": {
    "ExecuteTime": {
     "end_time": "2024-10-09T08:56:42.227280Z",
     "start_time": "2024-10-09T08:56:42.223563Z"
    }
   },
   "source": [
    "from typing import List\n",
    "\n",
    "from gen_ai_hub.orchestration.models.config import OrchestrationConfig\n",
    "from gen_ai_hub.orchestration.models.llm import LLM\n",
    "from gen_ai_hub.orchestration.models.message import Message, SystemMessage, UserMessage\n",
    "from gen_ai_hub.orchestration.models.template import Template, TemplateValue\n",
    "from gen_ai_hub.orchestration.service import OrchestrationService\n",
    "\n",
    "\n",
    "class ChatBot:\n",
    "    def __init__(self, orchestration_service: OrchestrationService):\n",
    "        self.service = orchestration_service\n",
    "        self.config = OrchestrationConfig(\n",
    "            template=Template(\n",
    "                messages=[\n",
    "                    SystemMessage(\"You are a helpful chatbot assistant.\"),\n",
    "                    UserMessage(\"{{?user_query}}\"),\n",
    "                ],\n",
    "            ),\n",
    "            llm=LLM(name=\"gpt-4\"),\n",
    "        )\n",
    "        self.history: List[Message] = []\n",
    "\n",
    "    def chat(self, user_input):\n",
    "        response = self.service.run(\n",
    "            config=self.config,\n",
    "            template_values=[\n",
    "                TemplateValue(name=\"user_query\", value=user_input),\n",
    "            ],\n",
    "            history=self.history,\n",
    "        )\n",
    "\n",
    "        message = response.orchestration_result.choices[0].message\n",
    "\n",
    "        self.history = response.module_results.templating\n",
    "        self.history.append(message)\n",
    "\n",
    "        return message.content"
   ],
   "outputs": [],
   "execution_count": 38
  },
  {
   "cell_type": "code",
   "id": "25bac947d3f51ba2",
   "metadata": {
    "ExecuteTime": {
     "end_time": "2024-10-09T08:56:43.742747Z",
     "start_time": "2024-10-09T08:56:43.740775Z"
    }
   },
   "source": [
    "bot = ChatBot(orchestration_service=service)"
   ],
   "outputs": [],
   "execution_count": 39
  },
  {
   "cell_type": "code",
   "id": "de06e9761b7af5f0",
   "metadata": {
    "ExecuteTime": {
     "end_time": "2024-10-09T08:56:47.054976Z",
     "start_time": "2024-10-09T08:56:44.394227Z"
    }
   },
   "source": [
    "print(bot.chat(\"Hello, how are you?\"))"
   ],
   "outputs": [
    {
     "name": "stdout",
     "output_type": "stream",
     "text": [
      "Hello! I'm just a chatbot, so I don't have feelings, but I'm here and ready to assist you! How can I help you today?\n"
     ]
    }
   ],
   "execution_count": 40
  },
  {
   "cell_type": "code",
   "id": "8d4b835cbd787bb4",
   "metadata": {
    "ExecuteTime": {
     "end_time": "2024-10-09T08:56:50.288663Z",
     "start_time": "2024-10-09T08:56:47.127730Z"
    }
   },
   "source": [
    "print(bot.chat(\"What's the weather like today?\"))"
   ],
   "outputs": [
    {
     "name": "stdout",
     "output_type": "stream",
     "text": [
      "I don't have real-time data access, so I'm not able to check current weather conditions. However, you can easily find the weather by checking a weather website like Weather.com, or by using a weather app on your phone. How else can I assist you today?\n"
     ]
    }
   ],
   "execution_count": 41
  },
  {
   "cell_type": "code",
   "id": "ce80d406ccab9e68",
   "metadata": {
    "ExecuteTime": {
     "end_time": "2024-10-09T08:56:52.114722Z",
     "start_time": "2024-10-09T08:56:50.360711Z"
    }
   },
   "source": [
    "print(bot.chat(\"Can you remember what I first asked you?\"))"
   ],
   "outputs": [
    {
     "name": "stdout",
     "output_type": "stream",
     "text": [
      "Yes, you started by asking, \"Hello, how are you?\" How can I assist you further today?\n"
     ]
    }
   ],
   "execution_count": 42
  },
  {
   "cell_type": "markdown",
   "id": "d0fee7d2dd8af5a4",
   "metadata": {},
   "source": [
    "### Sentiment Analysis with Few Shot Learning "
   ]
  },
  {
   "cell_type": "code",
   "id": "9296deee2b6a286e",
   "metadata": {
    "ExecuteTime": {
     "end_time": "2024-10-09T08:56:52.126375Z",
     "start_time": "2024-10-09T08:56:52.121737Z"
    }
   },
   "source": [
    "from typing import List, Tuple\n",
    "\n",
    "from gen_ai_hub.orchestration.models.config import OrchestrationConfig\n",
    "from gen_ai_hub.orchestration.models.llm import LLM\n",
    "from gen_ai_hub.orchestration.models.message import (\n",
    "    SystemMessage,\n",
    "    UserMessage,\n",
    "    AssistantMessage,\n",
    ")\n",
    "from gen_ai_hub.orchestration.models.template import Template, TemplateValue\n",
    "from gen_ai_hub.orchestration.service import OrchestrationService\n",
    "\n",
    "\n",
    "class FewShotLearner:\n",
    "    def __init__(\n",
    "            self,\n",
    "            orchestration_service: OrchestrationService,\n",
    "            system_message: SystemMessage,\n",
    "            examples: List[Tuple[UserMessage, AssistantMessage]],\n",
    "    ):\n",
    "        self.service = orchestration_service\n",
    "        self.config = OrchestrationConfig(\n",
    "            template=self._create_few_shot_template(system_message, examples),\n",
    "            llm=LLM(name=\"gpt-35-turbo\"),\n",
    "        )\n",
    "\n",
    "    @staticmethod\n",
    "    def _create_few_shot_template(\n",
    "            system_message: SystemMessage,\n",
    "            examples: List[Tuple[UserMessage, AssistantMessage]],\n",
    "    ) -> Template:\n",
    "        messages = [system_message]\n",
    "\n",
    "        for example in examples:\n",
    "            messages.append(example[0])\n",
    "            messages.append(example[1])\n",
    "        messages.append(UserMessage(\"{{?user_input}}\"))\n",
    "\n",
    "        return Template(messages=messages)\n",
    "\n",
    "    def predict(self, user_input: str) -> str:\n",
    "        response = self.service.run(\n",
    "            config=self.config,\n",
    "            template_values=[TemplateValue(name=\"user_input\", value=user_input)],\n",
    "        )\n",
    "\n",
    "        return response.orchestration_result.choices[0].message.content"
   ],
   "outputs": [],
   "execution_count": 43
  },
  {
   "cell_type": "code",
   "id": "d1b054f8f344a862",
   "metadata": {
    "ExecuteTime": {
     "end_time": "2024-10-09T08:56:52.157422Z",
     "start_time": "2024-10-09T08:56:52.155197Z"
    }
   },
   "source": [
    "sentiment_examples = [\n",
    "    (UserMessage(\"I love this product!\"), AssistantMessage(\"Positive\")),\n",
    "    (UserMessage(\"This is terrible service.\"), AssistantMessage(\"Negative\")),\n",
    "    (UserMessage(\"The weather is okay today.\"), AssistantMessage(\"Neutral\")),\n",
    "]"
   ],
   "outputs": [],
   "execution_count": 44
  },
  {
   "cell_type": "code",
   "id": "d5babd104942009f",
   "metadata": {
    "ExecuteTime": {
     "end_time": "2024-10-09T08:56:53.071706Z",
     "start_time": "2024-10-09T08:56:53.069451Z"
    }
   },
   "source": [
    "sentiment_analyzer = FewShotLearner(\n",
    "    orchestration_service=service,\n",
    "    system_message=SystemMessage(\n",
    "        \"You are a sentiment analysis assistant. Classify the sentiment as Positive, Negative, or Neutral.\"\n",
    "    ),\n",
    "    examples=sentiment_examples,\n",
    ")"
   ],
   "outputs": [],
   "execution_count": 45
  },
  {
   "cell_type": "code",
   "id": "f11c1b1bf9625782",
   "metadata": {
    "ExecuteTime": {
     "end_time": "2024-10-09T08:56:54.452841Z",
     "start_time": "2024-10-09T08:56:53.809825Z"
    }
   },
   "source": [
    "print(sentiment_analyzer.predict(\"The movie was a complete waste of time!\"))"
   ],
   "outputs": [
    {
     "name": "stdout",
     "output_type": "stream",
     "text": [
      "Negative\n"
     ]
    }
   ],
   "execution_count": 46
  },
  {
   "cell_type": "code",
   "id": "52f3cde99c4b35f4",
   "metadata": {
    "ExecuteTime": {
     "end_time": "2024-10-09T08:56:55.828302Z",
     "start_time": "2024-10-09T08:56:55.296825Z"
    }
   },
   "source": [
    "print(\n",
    "    sentiment_analyzer.predict(\"The traffic was fortunately unusually light today.\")\n",
    ")"
   ],
   "outputs": [
    {
     "name": "stdout",
     "output_type": "stream",
     "text": [
      "Positive\n"
     ]
    }
   ],
   "execution_count": 47
  },
  {
   "cell_type": "code",
   "id": "6556f4990073d78f",
   "metadata": {
    "ExecuteTime": {
     "end_time": "2024-10-09T08:56:56.909628Z",
     "start_time": "2024-10-09T08:56:56.324339Z"
    }
   },
   "source": [
    "print(\n",
    "    sentiment_analyzer.predict(\"I'm not sure how I feel about the recent events.\")\n",
    ")"
   ],
   "outputs": [
    {
     "name": "stdout",
     "output_type": "stream",
     "text": [
      "Neutral\n"
     ]
    }
   ],
   "execution_count": 48
  }
 ],
 "metadata": {
  "kernelspec": {
   "display_name": "Python 3 (ipykernel)",
   "language": "python",
   "name": "python3"
  },
  "language_info": {
   "codemirror_mode": {
    "name": "ipython",
    "version": 3
   },
   "file_extension": ".py",
   "mimetype": "text/x-python",
   "name": "python",
   "nbconvert_exporter": "python",
   "pygments_lexer": "ipython3",
   "version": "3.9.6"
  }
 },
 "nbformat": 4,
 "nbformat_minor": 5
}
